{
 "cells": [
  {
   "cell_type": "code",
   "execution_count": 1,
   "id": "3577a38e",
   "metadata": {},
   "outputs": [],
   "source": [
    "from datasets import load_dataset\n",
    "\n",
    "dataset = load_dataset(\"roszcz/internship-midi-data-science\", split=\"train\")"
   ]
  },
  {
   "cell_type": "code",
   "execution_count": 2,
   "id": "9c5a78e6",
   "metadata": {},
   "outputs": [
    {
     "data": {
      "text/plain": [
       "Dataset({\n",
       "    features: ['notes', 'control_changes', 'user', 'record_id'],\n",
       "    num_rows: 6\n",
       "})"
      ]
     },
     "execution_count": 2,
     "metadata": {},
     "output_type": "execute_result"
    }
   ],
   "source": [
    "dataset"
   ]
  },
  {
   "cell_type": "code",
   "execution_count": 27,
   "id": "e346ac92",
   "metadata": {
    "scrolled": true
   },
   "outputs": [
    {
     "name": "stdout",
     "output_type": "stream",
     "text": [
      "         end  pitch      start  velocity\n",
      "0   1.781250     60   0.932292        69\n",
      "1  19.708333     42  19.656250        53\n",
      "2  20.026042     49  19.979167        56\n",
      "3  20.406250     57  20.312500        61\n",
      "4  20.932292     49  20.848958        61\n",
      "5  21.234375     44  21.166667        56\n",
      "6  21.526042     49  21.484375        59\n",
      "7  21.916667     59  21.807292        58\n",
      "8  22.161458     49  22.109375        61\n",
      "9  22.531250     45  22.421875        60\n"
     ]
    }
   ],
   "source": [
    "import pandas as pd\n",
    "\n",
    "record = dataset[1]\n",
    "df = pd.DataFrame(record[\"notes\"])\n",
    "print(df.head(10))"
   ]
  },
  {
   "cell_type": "code",
   "execution_count": 20,
   "id": "93a9f0d9",
   "metadata": {},
   "outputs": [
    {
     "data": {
      "text/plain": [
       "6"
      ]
     },
     "execution_count": 20,
     "metadata": {},
     "output_type": "execute_result"
    }
   ],
   "source": [
    "len(dataset)"
   ]
  },
  {
   "cell_type": "code",
   "execution_count": 30,
   "id": "cd5e6235",
   "metadata": {},
   "outputs": [],
   "source": [
    "ends = df[\"end\"]\n",
    "starts = df[\"start\"]"
   ]
  },
  {
   "cell_type": "code",
   "execution_count": 41,
   "id": "1eb214d1",
   "metadata": {},
   "outputs": [],
   "source": [
    "durations = []\n",
    "\n",
    "for i in range(0,ends.size):\n",
    "    durations.append(ends[i]-starts[i])\n"
   ]
  },
  {
   "cell_type": "code",
   "execution_count": 43,
   "id": "32804fab",
   "metadata": {},
   "outputs": [
    {
     "data": {
      "text/plain": [
       "38011"
      ]
     },
     "execution_count": 43,
     "metadata": {},
     "output_type": "execute_result"
    }
   ],
   "source": [
    "len(durations)"
   ]
  },
  {
   "cell_type": "code",
   "execution_count": 49,
   "id": "5517f26b",
   "metadata": {},
   "outputs": [
    {
     "data": {
      "text/plain": [
       "168.2587673611111"
      ]
     },
     "execution_count": 49,
     "metadata": {},
     "output_type": "execute_result"
    }
   ],
   "source": [
    "ends[ends.size-1]/60"
   ]
  },
  {
   "cell_type": "code",
   "execution_count": null,
   "id": "d301d30a",
   "metadata": {},
   "outputs": [],
   "source": []
  }
 ],
 "metadata": {
  "kernelspec": {
   "display_name": "Python 3 (ipykernel)",
   "language": "python",
   "name": "python3"
  },
  "language_info": {
   "codemirror_mode": {
    "name": "ipython",
    "version": 3
   },
   "file_extension": ".py",
   "mimetype": "text/x-python",
   "name": "python",
   "nbconvert_exporter": "python",
   "pygments_lexer": "ipython3",
   "version": "3.9.13"
  }
 },
 "nbformat": 4,
 "nbformat_minor": 5
}
